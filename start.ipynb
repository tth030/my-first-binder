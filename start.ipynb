{
 "cells": [
  {
   "cell_type": "markdown",
   "metadata": {},
   "source": [
    "<img src=\"./assets/illustration.png\" style=\"width: 1000px;\"/>"
   ]
  },
  {
   "cell_type": "markdown",
   "metadata": {},
   "source": [
    "<script>\n",
    "    // AUTORUN ALL CELLS ON NOTEBOOK-LOAD!\n",
    "    require(\n",
    "        ['base/js/namespace', 'jquery'], \n",
    "        function(jupyter, $) {\n",
    "            $(jupyter.events).on(\"kernel_ready.Kernel\", function () {\n",
    "                console.log(\"Auto-running all cells-below...\");\n",
    "                jupyter.actions.call('jupyter-notebook:run-all-cells-below');\n",
    "                jupyter.actions.call('jupyter-notebook:save-notebook');\n",
    "            });\n",
    "        }\n",
    "    );\n",
    "</script>"
   ]
  },
  {
   "cell_type": "markdown",
   "metadata": {
    "tags": []
   },
   "source": [
    "## Supplementary material\n",
    "\n",
    "<p style=\"color:rgb(255,0,0);\">Please cite the source when using these data:</p>\n",
    "Theunissen, T., Huismans, R.S., Lu, G. and Riel, N. Relative continent/mid-ocean ridge elevation: a reference case for isostasy in geodynamics. Earth-Science Reviews (Under preparation, submission december 2021)<br><br>\n",
    "\n",
    "\n",
    "This Repository allows:\n",
    "- Displaying data and computing statistics on elevation of continents and mid-ocean ridges\n",
    "\n",
    "- Displaying and downloading thermodynamic solutions (raw data and grids of density, melt fraction,...)\n",
    "\n",
    "- Computing a basic 1-D isostatic balance for a reference case\n",
    "\n",
    "## What are the data used to analyse Earth topography?\n",
    "\n",
    "<strong>Disclaimer</strong>: Some files provided here (data/) comes from a preliminary filtering using a command that is described in each binary header (can be read using `ncinfo` or `gmt gmtinfo`). Links provided here will give you access directly to the raw data or to a contact email. <p style=\"color:rgb(255,0,0);\">Please cite each specific source when using these data.</p>\n",
    "\n",
    "\n",
    "- ETOPO1\n",
    "    - https://www.ngdc.noaa.gov/mgg/global/\n",
    "    - NOAA National Geophysical Data Center. 2009: ETOPO1 1 Arc-Minute Global Relief Model. NOAA National Centers for Environmental Information. Accessed [date]\n",
    "    - Amante, C. and B.W. Eakins, 2009. ETOPO1 1 Arc-Minute Global Relief Model: Procedures, Data Sources and Analysis. NOAA Technical Memorandum NESDIS NGDC-24. National Geophysical Data Center, NOAA. doi:10.7289/V5C8276M [access date]\n",
    "\n",
    "\n",
    "- Seafloor ages and spreading rate\n",
    "    - https://www.earthbyte.org/age-spreading-rates-and-spreading-asymmetry-of-the-worlds-ocean-crust/\n",
    "    - Müller, R.D., M. Sdrolias, C. Gaina, and W.R. Roest 2008. Age, spreading rates and spreading symmetry of the world's ocean crust, Geochem. Geophys. Geosyst., 9, Q04006, <a href=\"https://agupubs.onlinelibrary.wiley.com/doi/10.1029/2007GC001743\">doi:10.1029/2007GC001743</a>\n",
    "\n",
    "\n",
    "- Horizontal strain rate\n",
    "    - https://gsrm2.unavco.org/intro/intro.html\n",
    "    - Kreemer, C., G. Blewitt, E.C. Klein, 2014, A geodetic plate motion and Global Strain Rate Model, Geochemistry, Geophysics, Geosystems, 15, 3849-3889, <a href=\"https://agupubs.onlinelibrary.wiley.com/doi/full/10.1002/2014GC005407\">https://doi.org/10.1002/2014GC005407</a>\n",
    "\n",
    "\n",
    "- High resolution bathymetry data\n",
    "    - https://www.gmrt.org/about/\n",
    "    - Ryan, W. B. F., et al. (2009), Global Multi-Resolution Topography synthesis, Geochem. Geophys. Geosyst., 10, Q03014, <a href=\"https://agupubs.onlinelibrary.wiley.com/doi/full/10.1029/2008GC002332\">doi:10.1029/2008GC002332</a>\n",
    "\n",
    "\n",
    "- Lithospheric thickness (average based on several seismological estimates)\n",
    "    - Steinberger, B. and Becker, T.W. A comparison of lithospheric thickness models, Tectonophysics, 746 (2018), pp. 325-338, <a href=\"https://www.sciencedirect.com/science/article/pii/S004019511630316X?via%3Dihub\">doi.org/10.1016/j.tecto.2016.08.001</a>\n",
    "\n",
    "\n",
    "- Age of the lithosphere from seismological analysis\n",
    "    - Poupinet, G., Shapiro, N.M. Worldwide distribution of ages of the continental lithosphere derived from a global seismic tomographic model, Lithos, 109 (2009), pp. 125-130, <a href=\"https://www.sciencedirect.com/science/article/pii/S0024493708002582\">doi.org/10.1016/j.lithos.2008.10.023</a>\n",
    "\n",
    "\n",
    "- Hot spots list\n",
    "    - http://www.mantleplumes.org/P%5E4/P%5e4Chapters/MorganP4ElectronicSupp1.pdf\n",
    "    - Morgan, W.J. and Morgan, J.P. Plate velocities in the hotspot reference frame, Plates, Plumes and Planetary Processes, Gillian R. Foulger, Donna M. Jurdy, (2007), <a href=\"https://pubs.geoscienceworld.org/gsa/books/book/618/chapter/3805271/Plate-velocities-in-the-hotspot-reference-frame\">doi.org/10.1130/2007.2430(04)</a>\n",
    "\n",
    "\n",
    "## PerpleX | Thermodynamic calculations\n",
    "\n",
    "- PerpleX\n",
    "\n",
    "\n",
    "- What are inputfiles and output files?\n",
    "\n",
    "\n",
    "- P-T grids (density,melting,)\n",
    "\n",
    "\n",
    "Link to [Thermodyn](thermo.ipynb)\n"
   ]
  },
  {
   "cell_type": "code",
   "execution_count": 1,
   "metadata": {},
   "outputs": [],
   "source": [
    "from os import listdir ; from os.path import isfile, join"
   ]
  },
  {
   "cell_type": "code",
   "execution_count": 2,
   "metadata": {},
   "outputs": [
    {
     "name": "stdout",
     "output_type": "stream",
     "text": [
      "######### input files ########\n",
      "illustration.png\n"
     ]
    }
   ],
   "source": [
    "onlyfiles = [f for f in listdir('./assets') if isfile(join('./assets', f))]\n",
    "print(\"######### input files ########\")\n",
    "for file in onlyfiles:\n",
    "    print('{}'.format(file))"
   ]
  },
  {
   "cell_type": "code",
   "execution_count": 7,
   "metadata": {},
   "outputs": [
    {
     "name": "stdout",
     "output_type": "stream",
     "text": [
      "Hello world!!!\n"
     ]
    }
   ],
   "source": [
    "from scripts.hello import *"
   ]
  },
  {
   "cell_type": "code",
   "execution_count": null,
   "metadata": {},
   "outputs": [],
   "source": []
  }
 ],
 "metadata": {
  "kernelspec": {
   "display_name": "Python 3",
   "language": "python",
   "name": "python3"
  },
  "language_info": {
   "codemirror_mode": {
    "name": "ipython",
    "version": 3
   },
   "file_extension": ".py",
   "mimetype": "text/x-python",
   "name": "python",
   "nbconvert_exporter": "python",
   "pygments_lexer": "ipython3",
   "version": "3.6.5"
  }
 },
 "nbformat": 4,
 "nbformat_minor": 4
}
